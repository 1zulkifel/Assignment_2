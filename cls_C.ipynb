{
 "cells": [
  {
   "cell_type": "code",
   "execution_count": 2,
   "metadata": {},
   "outputs": [
    {
     "name": "stdout",
     "output_type": "stream",
     "text": [
      "03457770757\n",
      "Raouf sir\n"
     ]
    }
   ],
   "source": [
    "print('03457770757')\n",
    "print('Raouf sir')"
   ]
  },
  {
   "cell_type": "code",
   "execution_count": 3,
   "metadata": {},
   "outputs": [],
   "source": [
    "#list= is sequence of elements is more important. nelemnets are in [] \n",
    "saman1='ghosht'\n",
    "saman2='dahi'\n",
    "samnan3='tamater'\n",
    "\n"
   ]
  },
  {
   "cell_type": "code",
   "execution_count": 5,
   "metadata": {},
   "outputs": [
    {
     "name": "stdout",
     "output_type": "stream",
     "text": [
      "['ghosht', 'tamater', 'alu']\n"
     ]
    }
   ],
   "source": [
    "list_saman=['ghosht', 'tamater', \"alu\"]\n",
    "print(list_saman)"
   ]
  },
  {
   "cell_type": "code",
   "execution_count": 9,
   "metadata": {},
   "outputs": [
    {
     "name": "stdout",
     "output_type": "stream",
     "text": [
      "['ghosht', 'tamater', 'alu', 'hair cuts', 'shoes']\n"
     ]
    }
   ],
   "source": [
    "# adding or concatinating list\n",
    "new_list=list_saman+['hair cuts','shoes']\n",
    "print(new_list)"
   ]
  },
  {
   "cell_type": "code",
   "execution_count": 13,
   "metadata": {},
   "outputs": [
    {
     "name": "stdout",
     "output_type": "stream",
     "text": [
      "hair cuts\n"
     ]
    }
   ],
   "source": [
    "#indexing  starts from zero and setting range\n",
    "print(new_list[3])"
   ]
  },
  {
   "cell_type": "code",
   "execution_count": 14,
   "metadata": {},
   "outputs": [
    {
     "name": "stdout",
     "output_type": "stream",
     "text": [
      "['tamater', 'alu', 'hair cuts']\n"
     ]
    }
   ],
   "source": [
    "print(new_list[1:4])"
   ]
  },
  {
   "cell_type": "code",
   "execution_count": 15,
   "metadata": {},
   "outputs": [
    {
     "name": "stdout",
     "output_type": "stream",
     "text": [
      "['tamater', 'hair cuts']\n"
     ]
    }
   ],
   "source": [
    "#adding steps the step is 2 and 1:4 is range\n",
    "print(new_list[1:4:2])"
   ]
  },
  {
   "cell_type": "code",
   "execution_count": 17,
   "metadata": {},
   "outputs": [
    {
     "name": "stdout",
     "output_type": "stream",
     "text": [
      "['tamater', 'hair cuts']\n"
     ]
    }
   ],
   "source": [
    "#no range\n",
    "print(new_list[1::2])"
   ]
  },
  {
   "cell_type": "code",
   "execution_count": 18,
   "metadata": {},
   "outputs": [
    {
     "name": "stdout",
     "output_type": "stream",
     "text": [
      "['ghosht', 'tamater', 'alu', 'hair cuts']\n"
     ]
    }
   ],
   "source": [
    "#not menttioning start\n",
    "print(new_list[:4:1])\n"
   ]
  },
  {
   "cell_type": "code",
   "execution_count": 20,
   "metadata": {},
   "outputs": [
    {
     "ename": "TypeError",
     "evalue": "unsupported operand type(s) for -: 'list' and 'list'",
     "output_type": "error",
     "traceback": [
      "\u001b[1;31m---------------------------------------------------------------------------\u001b[0m",
      "\u001b[1;31mTypeError\u001b[0m                                 Traceback (most recent call last)",
      "\u001b[1;32m<ipython-input-20-882f3bf2a1b1>\u001b[0m in \u001b[0;36m<module>\u001b[1;34m()\u001b[0m\n\u001b[0;32m      1\u001b[0m \u001b[1;31m#indexing in negative\u001b[0m\u001b[1;33m\u001b[0m\u001b[1;33m\u001b[0m\u001b[0m\n\u001b[1;32m----> 2\u001b[1;33m \u001b[0mnew_list\u001b[0m\u001b[1;33m=\u001b[0m\u001b[0mlist_saman\u001b[0m\u001b[1;33m-\u001b[0m\u001b[1;33m[\u001b[0m\u001b[1;34m'hair cuts'\u001b[0m\u001b[1;33m,\u001b[0m\u001b[1;34m'shoes'\u001b[0m\u001b[1;33m]\u001b[0m\u001b[1;33m\u001b[0m\u001b[0m\n\u001b[0m\u001b[0;32m      3\u001b[0m \u001b[0mprint\u001b[0m\u001b[1;33m(\u001b[0m\u001b[0mnew_list\u001b[0m\u001b[1;33m)\u001b[0m\u001b[1;33m\u001b[0m\u001b[0m\n",
      "\u001b[1;31mTypeError\u001b[0m: unsupported operand type(s) for -: 'list' and 'list'"
     ]
    }
   ],
   "source": [
    "#indexing in negative\n",
    "new_list=list_saman-['hair cuts','shoes']\n",
    "print(new_list)"
   ]
  },
  {
   "cell_type": "code",
   "execution_count": 21,
   "metadata": {},
   "outputs": [
    {
     "name": "stdout",
     "output_type": "stream",
     "text": [
      "['shoes', 'hair cuts', 'alu']\n"
     ]
    }
   ],
   "source": [
    "print(new_list[:-4:-1])"
   ]
  },
  {
   "cell_type": "code",
   "execution_count": 24,
   "metadata": {},
   "outputs": [
    {
     "name": "stdout",
     "output_type": "stream",
     "text": [
      "[]\n",
      "['shoes', 'hair cuts', 'alu']\n"
     ]
    }
   ],
   "source": [
    "print(new_list[:-1:-4])\n",
    "print(new_list[-1:-4:-1])"
   ]
  },
  {
   "cell_type": "code",
   "execution_count": 26,
   "metadata": {},
   "outputs": [
    {
     "ename": "SyntaxError",
     "evalue": "can't assign to literal (<ipython-input-26-f8c70632b3a1>, line 6)",
     "output_type": "error",
     "traceback": [
      "\u001b[1;36m  File \u001b[1;32m\"<ipython-input-26-f8c70632b3a1>\"\u001b[1;36m, line \u001b[1;32m6\u001b[0m\n\u001b[1;33m    11=['a','b','c', 'c']\u001b[0m\n\u001b[1;37m                         ^\u001b[0m\n\u001b[1;31mSyntaxError\u001b[0m\u001b[1;31m:\u001b[0m can't assign to literal\n"
     ]
    }
   ],
   "source": [
    "#we can store heterogenuous vslue. Positive index 0123 and negative index -3-2\n",
    "#slicing {start:end:step}\n",
    "#start include\n",
    "#end exclude\n",
    "#step\n",
    "L1=['a','b','c', 'c']\n",
    "L1[::]\n",
    "L1\n",
    "L1[:]\n",
    "L1[0:]\n",
    "L1[-3:]\n",
    "L1[0:3]\n"
   ]
  },
  {
   "cell_type": "code",
   "execution_count": 28,
   "metadata": {},
   "outputs": [
    {
     "data": {
      "text/plain": [
       "['b', 'c']"
      ]
     },
     "execution_count": 28,
     "metadata": {},
     "output_type": "execute_result"
    }
   ],
   "source": [
    "L1=['a','b','c', 'c']\n",
    "L1[-3:3]"
   ]
  },
  {
   "cell_type": "code",
   "execution_count": 29,
   "metadata": {},
   "outputs": [
    {
     "data": {
      "text/plain": [
       "[]"
      ]
     },
     "execution_count": 29,
     "metadata": {},
     "output_type": "execute_result"
    }
   ],
   "source": [
    "L1=['a','b','c', 'c']\n",
    "L1[-1:4:-1]"
   ]
  },
  {
   "cell_type": "code",
   "execution_count": 30,
   "metadata": {},
   "outputs": [
    {
     "name": "stdout",
     "output_type": "stream",
     "text": [
      "03152968211 qasim\n"
     ]
    }
   ],
   "source": [
    "print('03152968211 qasim')"
   ]
  },
  {
   "cell_type": "code",
   "execution_count": 33,
   "metadata": {},
   "outputs": [
    {
     "name": "stdout",
     "output_type": "stream",
     "text": [
      "['ghosht', 'tamater', 'alu', 'hair cuts', 'shoes', 'moo dhona', 'moo dhona', 'moo dhona']\n"
     ]
    }
   ],
   "source": [
    "#it add to last of the sequence\n",
    "new_list.append('moo dhona')\n",
    "print(new_list)"
   ]
  },
  {
   "cell_type": "code",
   "execution_count": 34,
   "metadata": {},
   "outputs": [
    {
     "name": "stdout",
     "output_type": "stream",
     "text": [
      "['ghosht', 'tamater', 'alu', 'hair cuts', 'shoes', 'moo dhona', 'moo dhona']\n"
     ]
    }
   ],
   "source": [
    "del new_list[5]\n",
    "print(new_list)"
   ]
  },
  {
   "cell_type": "code",
   "execution_count": 37,
   "metadata": {},
   "outputs": [
    {
     "name": "stdout",
     "output_type": "stream",
     "text": [
      "['ghosht', 'tamater', 'alu', 'hair cuts', 'shoes', 'moo dhona']\n"
     ]
    }
   ],
   "source": [
    "new_list.remove('moo dhona')\n",
    "print(new_list)"
   ]
  },
  {
   "cell_type": "code",
   "execution_count": 42,
   "metadata": {},
   "outputs": [
    {
     "name": "stdout",
     "output_type": "stream",
     "text": [
      "['ghosht', 'tamater', 'alu', 'podina', 'hair cuts', 'shoes', 'moo dhona']\n"
     ]
    }
   ],
   "source": [
    "new_list.insert(3, 'podina')\n",
    "print(new_list)"
   ]
  },
  {
   "cell_type": "code",
   "execution_count": 43,
   "metadata": {},
   "outputs": [
    {
     "name": "stdout",
     "output_type": "stream",
     "text": [
      "['ghosht', 'tamater', 'alu', 'dhania', 'hair cuts', 'shoes', 'moo dhona']\n"
     ]
    }
   ],
   "source": [
    "new_list[3]='dhania'\n",
    "print(new_list)"
   ]
  },
  {
   "cell_type": "code",
   "execution_count": 44,
   "metadata": {},
   "outputs": [
    {
     "ename": "IndentationError",
     "evalue": "unexpected indent (<ipython-input-44-cb92105f827a>, line 2)",
     "output_type": "error",
     "traceback": [
      "\u001b[1;36m  File \u001b[1;32m\"<ipython-input-44-cb92105f827a>\"\u001b[1;36m, line \u001b[1;32m2\u001b[0m\n\u001b[1;33m    a=+b\u001b[0m\n\u001b[1;37m    ^\u001b[0m\n\u001b[1;31mIndentationError\u001b[0m\u001b[1;31m:\u001b[0m unexpected indent\n"
     ]
    }
   ],
   "source": [
    "#applying if statment== if a!=b:\n",
    "    a=+b\n",
    "elif a>b:\n",
    "    print('h')\n"
   ]
  },
  {
   "cell_type": "code",
   "execution_count": 1,
   "metadata": {},
   "outputs": [
    {
     "name": "stdout",
     "output_type": "stream",
     "text": [
      "ik\n"
     ]
    }
   ],
   "source": [
    "person='islb'\n",
    "if person=='krch':\n",
    "    print('imraaan khan')\n",
    "elif person=='pshwr':\n",
    "    print('mara khan')\n",
    "elif person=='fslbd':\n",
    "    print('mran khan')\n",
    "elif person =='islb':\n",
    "    print('ik')\n",
    "else:\n",
    "    print('imran khan ')\n",
    "\n"
   ]
  },
  {
   "cell_type": "code",
   "execution_count": 53,
   "metadata": {},
   "outputs": [
    {
     "name": "stdout",
     "output_type": "stream",
     "text": [
      "1\n",
      "2\n",
      "3\n",
      "4\n",
      "5\n",
      "6\n",
      "7\n",
      "8\n",
      "9\n"
     ]
    }
   ],
   "source": [
    "#for loop    ,,, for (INT  I=10; I<=1 ; i++)\n",
    "# LAST EXCLUDE\n",
    "for i in range (1,10, ):\n",
    "    print(i)\n",
    "    \n"
   ]
  },
  {
   "cell_type": "code",
   "execution_count": 54,
   "metadata": {},
   "outputs": [
    {
     "name": "stdout",
     "output_type": "stream",
     "text": [
      "1\n",
      "4\n",
      "7\n"
     ]
    }
   ],
   "source": [
    "for i in range (1,10, 3):\n",
    "    print(i)"
   ]
  },
  {
   "cell_type": "code",
   "execution_count": 66,
   "metadata": {},
   "outputs": [
    {
     "name": "stdout",
     "output_type": "stream",
     "text": [
      "found\n"
     ]
    }
   ],
   "source": [
    "task_to_find='alu'\n",
    "for task in new_list:\n",
    "    if 'tamater'== task:\n",
    "        print('found')\n",
    "    \n",
    "\n",
    "\n"
   ]
  },
  {
   "cell_type": "code",
   "execution_count": 72,
   "metadata": {},
   "outputs": [
    {
     "name": "stdout",
     "output_type": "stream",
     "text": [
      "found\n",
      "found\n",
      "found\n",
      "found\n",
      "found\n",
      "found\n",
      "found\n"
     ]
    }
   ],
   "source": [
    "task_to_find='alu'\n",
    "for task in range(0 , len (new_list)):\n",
    "    if 'alu'== new_list[2]:\n",
    "        print('found'+ str(task))"
   ]
  },
  {
   "cell_type": "code",
   "execution_count": 73,
   "metadata": {},
   "outputs": [
    {
     "name": "stdout",
     "output_type": "stream",
     "text": [
      "positive\n"
     ]
    }
   ],
   "source": [
    "a=12\n",
    "if a==12:\n",
    "    print('positive')\n",
    "else:\n",
    "    print('negative')\n",
    "    "
   ]
  },
  {
   "cell_type": "code",
   "execution_count": 82,
   "metadata": {},
   "outputs": [
    {
     "name": "stdout",
     "output_type": "stream",
     "text": [
      "A\n"
     ]
    }
   ],
   "source": [
    "a=12\n",
    "b=13\n",
    "c=14\n",
    "avg=(a+b+c)/4\n",
    "if a==12:\n",
    "    print ('A')\n",
    "else:\n",
    "    print('B')\n"
   ]
  },
  {
   "cell_type": "code",
   "execution_count": 83,
   "metadata": {},
   "outputs": [
    {
     "name": "stdout",
     "output_type": "stream",
     "text": [
      "0.10619469026548672\n"
     ]
    }
   ],
   "source": [
    "a=12\n",
    "b=113\n",
    "c=a/b\n",
    "print(c)"
   ]
  },
  {
   "cell_type": "code",
   "execution_count": 84,
   "metadata": {},
   "outputs": [
    {
     "name": "stdout",
     "output_type": "stream",
     "text": [
      "0\n"
     ]
    }
   ],
   "source": [
    "a=112\n",
    "b=113\n",
    "c=a//b\n",
    "print(c)"
   ]
  },
  {
   "cell_type": "code",
   "execution_count": 87,
   "metadata": {},
   "outputs": [
    {
     "ename": "SyntaxError",
     "evalue": "invalid syntax (<ipython-input-87-2d06b0779002>, line 3)",
     "output_type": "error",
     "traceback": [
      "\u001b[1;36m  File \u001b[1;32m\"<ipython-input-87-2d06b0779002>\"\u001b[1;36m, line \u001b[1;32m3\u001b[0m\n\u001b[1;33m    print(non divisible)\u001b[0m\n\u001b[1;37m                      ^\u001b[0m\n\u001b[1;31mSyntaxError\u001b[0m\u001b[1;31m:\u001b[0m invalid syntax\n"
     ]
    }
   ],
   "source": [
    "for i in range (0,51):\n",
    "    if i == f:\n",
    "        print(non divisible)\n",
    "else:\n",
    "    print('divisible')\n"
   ]
  },
  {
   "cell_type": "code",
   "execution_count": 90,
   "metadata": {},
   "outputs": [
    {
     "name": "stdout",
     "output_type": "stream",
     "text": [
      "github/faizan170/piaic-batch3-silamabad\n"
     ]
    }
   ],
   "source": [
    "print( 'github/faizan170/piaic-batch3-silamabad')"
   ]
  },
  {
   "cell_type": "code",
   "execution_count": null,
   "metadata": {},
   "outputs": [],
   "source": []
  }
 ],
 "metadata": {
  "kernelspec": {
   "display_name": "Python 3",
   "language": "python",
   "name": "python3"
  },
  "language_info": {
   "codemirror_mode": {
    "name": "ipython",
    "version": 3
   },
   "file_extension": ".py",
   "mimetype": "text/x-python",
   "name": "python",
   "nbconvert_exporter": "python",
   "pygments_lexer": "ipython3",
   "version": "3.7.0"
  }
 },
 "nbformat": 4,
 "nbformat_minor": 2
}
