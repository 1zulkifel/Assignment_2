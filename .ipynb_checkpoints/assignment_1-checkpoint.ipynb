{
 "cells": [
  {
   "cell_type": "code",
   "execution_count": 41,
   "metadata": {},
   "outputs": [
    {
     "name": "stdout",
     "output_type": "stream",
     "text": [
      "positive\n"
     ]
    }
   ],
   "source": [
    "a=3\n",
    "if a ==3:\n",
    "    print('positive')\n",
    "\n",
    "\n",
    "\n",
    "\n"
   ]
  },
  {
   "cell_type": "code",
   "execution_count": 45,
   "metadata": {},
   "outputs": [
    {
     "name": "stdout",
     "output_type": "stream",
     "text": [
      "enter  number66\n",
      "enter  number66\n",
      "enter  number66\n",
      "enter  number66\n",
      "enter  number66\n",
      "330\n",
      "percentage 66.0\n",
      "Grade C\n"
     ]
    }
   ],
   "source": [
    "\n",
    "urdu=int(input('enter  number'))\n",
    "english=int(input('enter  number'))\n",
    "chem=int(input('enter  number'))\n",
    "math=int(input('enter  number'))\n",
    "phy=int(input('enter  number'))\n",
    "total_obtained=urdu+english+chem+math+phy\n",
    "print(total_obtained)\n",
    "percentage= total_obtained /500 *100\n",
    "print( \"percentage\", percentage)\n",
    "if percentage>=80:\n",
    "    print('Grade A')\n",
    "elif percentage>=70:\n",
    "    print('Grade B')\n",
    "elif percentage>=60:\n",
    "    print('Grade C')\n",
    "else:\n",
    "    print('fail')\n",
    "\n",
    "\n"
   ]
  },
  {
   "cell_type": "code",
   "execution_count": 6,
   "metadata": {},
   "outputs": [
    {
     "name": "stdout",
     "output_type": "stream",
     "text": [
      "0.9230769230769231\n"
     ]
    }
   ],
   "source": [
    "#programe for quotient and remainder using remainder and modula op\n",
    "\n",
    "a=12\n",
    "b=13\n",
    "c=a/b\n",
    "print(c)"
   ]
  },
  {
   "cell_type": "code",
   "execution_count": 11,
   "metadata": {},
   "outputs": [
    {
     "name": "stdout",
     "output_type": "stream",
     "text": [
      "1\n"
     ]
    }
   ],
   "source": [
    "\n",
    "a=15\n",
    "b=13\n",
    "c=a//b\n",
    "print(c)"
   ]
  },
  {
   "cell_type": "markdown",
   "metadata": {},
   "source": [
    "## \n",
    "### "
   ]
  },
  {
   "cell_type": "code",
   "execution_count": 34,
   "metadata": {},
   "outputs": [
    {
     "name": "stdout",
     "output_type": "stream",
     "text": [
      "0\n",
      "1\n",
      "2\n",
      "3\n",
      "4\n",
      "5\n",
      "6\n",
      "7\n",
      "8\n",
      "9\n",
      "10\n",
      "11\n",
      "12\n",
      "13\n",
      "14\n",
      "15\n",
      "16\n",
      "17\n",
      "18\n",
      "19\n",
      "20\n",
      "21\n",
      "22\n",
      "23\n",
      "24\n",
      "25\n",
      "26\n",
      "27\n",
      "28\n",
      "29\n",
      "30\n",
      "31\n",
      "32\n",
      "33\n",
      "34\n",
      "35\n",
      "36\n",
      "37\n",
      "38\n",
      "39\n",
      "40\n",
      "41\n",
      "42\n",
      "43\n",
      "44\n",
      "45\n",
      "46\n",
      "47\n",
      "48\n",
      "49\n",
      "50\n",
      "Divisible\n"
     ]
    }
   ],
   "source": [
    "for number in range (0,51):\n",
    "    print(number)\n",
    "if number/12 and number/3:\n",
    "      print('Divisible')\n",
    "else:\n",
    "    print('Indivisible')\n"
   ]
  },
  {
   "cell_type": "code",
   "execution_count": 43,
   "metadata": {},
   "outputs": [
    {
     "name": "stdout",
     "output_type": "stream",
     "text": [
      "enter your number: 17\n",
      "enter your number: 12\n",
      "12\n",
      "17\n"
     ]
    }
   ],
   "source": [
    "# method 1 for swaping \n",
    "\n",
    "a=int(input('enter your number: '))\n",
    "b=int(input('enter your number: '))\n",
    "a=a+b\n",
    "b=a-b\n",
    "a=a-b\n",
    "print(a)\n",
    "print(b)\n",
    "\n"
   ]
  },
  {
   "cell_type": "code",
   "execution_count": 44,
   "metadata": {},
   "outputs": [
    {
     "name": "stdout",
     "output_type": "stream",
     "text": [
      "enter your number: 2\n",
      "enter your number: 3\n",
      "3\n",
      "2\n"
     ]
    }
   ],
   "source": [
    "#method 2 for swaping using XOR \n",
    "a=int(input('enter your number: '))\n",
    "b=int(input('enter your number: '))\n",
    "a=a^b\n",
    "b=a^b\n",
    "a=a^b\n",
    "print(a)\n",
    "print(b)"
   ]
  },
  {
   "cell_type": "markdown",
   "metadata": {},
   "source": [
    " "
   ]
  },
  {
   "cell_type": "code",
   "execution_count": 51,
   "metadata": {},
   "outputs": [
    {
     "name": "stdout",
     "output_type": "stream",
     "text": [
      "4.63511081571606\n"
     ]
    }
   ],
   "source": [
    "#using herons formula for calculating area of triangle\n",
    "import math \n",
    "a = 4.503\n",
    "b = 2.377\n",
    "c = 3.902\n",
    "s = (a + b + c) / 2\n",
    "area = math.sqrt(s * (s - a) * (s - b) * (s - c))\n",
    "print(area)\n",
    "    "
   ]
  },
  {
   "cell_type": "code",
   "execution_count": null,
   "metadata": {},
   "outputs": [],
   "source": []
  }
 ],
 "metadata": {
  "kernelspec": {
   "display_name": "Python 3",
   "language": "python",
   "name": "python3"
  },
  "language_info": {
   "codemirror_mode": {
    "name": "ipython",
    "version": 3
   },
   "file_extension": ".py",
   "mimetype": "text/x-python",
   "name": "python",
   "nbconvert_exporter": "python",
   "pygments_lexer": "ipython3",
   "version": "3.7.0"
  }
 },
 "nbformat": 4,
 "nbformat_minor": 2
}
